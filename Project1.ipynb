{
 "cells": [
  {
   "cell_type": "markdown",
   "metadata": {},
   "source": [
    "# 1D Diffusion model for CO<sub>2</sub> absorbtion in the ocean\n",
    "## Some initial help for Project 1\n",
    "\n",
    "In this notebook, you will find a solver for tri-diagonal linear systems, that you can use to solve Eq. (28) in the project description. You will also find an example of creating a tri-diagonal sparse matrix, using this to calculated the matrix-vector product in Eq. (27) in the project description, and an example of using the solver."
   ]
  },
  {
   "cell_type": "markdown",
   "metadata": {},
   "source": [
    "# 1D Diffusion model for CO<sub>2</sub> absorbtion in the ocean\n",
    "## Some initial help for Project 1\n",
    "\n",
    "In this notebook, you will find a solver for tri-diagonal linear systems, that you can use to solve Eq. (28) in the project description. You will also find an example of creating a tri-diagonal sparse matrix, using this to calculated the matrix-vector product in Eq. (27) in the project description, and an example of using the solver."
   ]
  },
  {
   "cell_type": "markdown",
   "metadata": {},
   "source": [
    "# 1D Diffusion model for CO<sub>2</sub> absorbtion in the ocean\n",
    "## Some initial help for Project 1\n",
    "\n",
    "In this notebook, you will find a solver for tri-diagonal linear systems, that you can use to solve Eq. (28) in the project description. You will also find an example of creating a tri-diagonal sparse matrix, using this to calculated the matrix-vector product in Eq. (27) in the project description, and an example of using the solver."
   ]
  },
  {
   "cell_type": "markdown",
   "metadata": {},
   "source": [
    "## Importing libraries"
   ]
  },
  {
   "cell_type": "code",
   "execution_count": 1,
   "metadata": {},
   "outputs": [],
   "source": [
    "# Matplotlib for plotting\n",
    "%matplotlib inline\n",
    "from matplotlib import pyplot as plt\n",
    "\n",
    "# Numpy for almost everything\n",
    "import numpy as np\n",
    "\n",
    "# Some scipy functions for sparse diagonal matrices\n",
    "from scipy.sparse import diags\n",
    "\n",
    "# scipy function to numerically calculate integral\n",
    "from scipy.integrate import simps\n",
    "\n",
    "# just-in-time (jit) compiler from numba, to speed up the loop in the TDMA solver\n",
    "# If this line gives you trouble, then you can either\n",
    "# install numba (recommended) or you can comment it out\n",
    "from numba import jit"
   ]
  },
  {
   "cell_type": "markdown",
   "metadata": {},
   "source": [
    "## Tri-Diagonal Matrix Algorithm (TDMA)"
   ]
  },
  {
   "cell_type": "code",
   "execution_count": 2,
   "metadata": {},
   "outputs": [],
   "source": [
    "# just-in-time (jit) compiler from numba, to speed up the loop in the TDMA solver\n",
    "# If this line gives you trouble, then you can either\n",
    "# install numba (recommended) or you can comment it out\n",
    "@jit(nopython = True)\n",
    "def tdma_solver(a, b, c, d):\n",
    "    # Solves Ax = d,\n",
    "    # where layout of matrix A is\n",
    "    # b1 c1 ......... 0\n",
    "    # a2 b2 c2 ........\n",
    "    # .. a3 b3 c3 .....\n",
    "    # .................\n",
    "    # .............. cN-1\n",
    "    # 0 ..........aN bN\n",
    "    # Note index offset of a\n",
    "    N = len(d)\n",
    "    c_ = np.zeros(N-1)\n",
    "    d_ = np.zeros(N)\n",
    "    x  = np.zeros(N)\n",
    "    c_[0] = c[0]/b[0]\n",
    "    d_[0] = d[0]/b[0]\n",
    "    for i in range(1, N-1):\n",
    "        c_[i] = c[i]/(b[i] - a[i-1]*c_[i-1])\n",
    "    for i in range(1, N):\n",
    "        d_[i] = (d[i] - a[i-1]*d_[i-1])/(b[i] - a[i-1]*c_[i-1])\n",
    "    x[-1] = d_[-1]\n",
    "    for i in range(N-2, -1, -1):\n",
    "        x[i] = d_[i] - c_[i]*x[i+1]\n",
    "    return x\n",
    "\n",
    "def tdma(A, b):\n",
    "    # Solves Ax = b to find x\n",
    "    # This is a wrapper function, which unpacks\n",
    "    # A from a sparse diagonal matrix structure into separate diagonals,\n",
    "    # and pass them to the numba-compiled solver defined above.\n",
    "    # Note, this method needs A to be diagonally dominant\n",
    "    # (which it will be, for this problem)\n",
    "    x = tdma_solver(A.diagonal(-1), A.diagonal(0), A.diagonal(1), b)\n",
    "    return x"
   ]
  },
  {
   "cell_type": "markdown",
   "metadata": {},
   "source": [
    "## Example of creating sparse matrix, and using the TDMA solver\n",
    "\n",
    "In this project, you will have to create two tri-diagonal matrices ($\\mathbf{L}$ and $\\mathbf{R}$ described on pages 8 and 9 in the project description). One way of doing this is two create three one-dimensional arrays to hold the main, the upper and the lower diagonal, and then store these in a sparse array structure from scipy. We will show an example of this below.\n",
    "\n",
    "**Note:** the matrices created here are _**not**_ the actual matrices you will need in the project, they are just somewhat similar to give you an idea of how to set up the matrices you will need."
   ]
  },
  {
   "cell_type": "code",
   "execution_count": 3,
   "metadata": {},
   "outputs": [],
   "source": [
    "# Size of system is N+1\n",
    "N = 10\n",
    "# Just a parameter\n",
    "a = 0.35\n",
    "\n",
    "# Creating example diagonals for L\n",
    "L_main  = 1 + 2*a*np.ones(N+1)\n",
    "L_upper = -a*np.ones(N)\n",
    "L_lower = -a*np.ones(N)\n",
    "\n",
    "# Creating example diagonals for R\n",
    "R_main  = 1 - 2*a*np.ones(N+1)\n",
    "R_upper = a*np.ones(N)\n",
    "R_lower = a*np.ones(N)\n",
    "\n",
    "# Creating sparse matrices\n",
    "# Give a list of the diagonals, and a corresponding list of offsets\n",
    "# offset of 0 is the main diagonal, offset -1 is the first lower diagonal, etc.\n",
    "# (scipy.sparse.diags was imported above)\n",
    "L = diags([L_upper, L_main, L_lower], offsets = [1, 0, -1])\n",
    "R = diags([R_upper, R_main, R_lower], offsets = [1, 0, -1])\n",
    "\n",
    "# Initial concentration, a linear function from 0 to 1 in this example\n",
    "C0 = np.linspace(0, 1, N+1)\n",
    "\n",
    "# For solving an equation such as L*C1 = R*C0, to find C1 when we know C0,\n",
    "# we then first calculate the matrix-vector product R*C0, using the built-in\n",
    "# method .dot() of the diagonal sparse array structure\n",
    "rhs = R.dot(C0)\n",
    "# Then we solve the linear equation system L*C1 = rhs to find C1\n",
    "C1 = tdma(L, rhs)"
   ]
  },
  {
   "cell_type": "code",
   "execution_count": 4,
   "metadata": {},
   "outputs": [
    {
     "data": {
      "text/plain": [
       "Text(0.5, 1.0, '$\\\\mathbf{R}$')"
      ]
     },
     "execution_count": 4,
     "metadata": {},
     "output_type": "execute_result"
    },
    {
     "data": {
      "image/png": "[encoded data removed]",
      "text/plain": [
       "<Figure size 864x432 with 2 Axes>"
      ]
     },
     "metadata": {
      "needs_background": "light"
     },
     "output_type": "display_data"
    }
   ],
   "source": [
    "# Just to illustrate the concept of tri-diagonal matrices, we can plot these.\n",
    "# All the white squares correspond to 0 values\n",
    "\n",
    "fig, ax = plt.subplots(ncols = 2, figsize = (12,6))\n",
    "ax[0].imshow(L.todense(), cmap = plt.cm.bwr, vmin = -1, vmax = 1)\n",
    "ax[0].set_title('$\\mathbf{L}$')\n",
    "ax[1].imshow(R.todense(), cmap = plt.cm.bwr, vmin = -1, vmax = 1)\n",
    "ax[1].set_title('$\\mathbf{R}$')"
   ]
  },
  {
   "cell_type": "code",
   "execution_count": null,
   "metadata": {},
   "outputs": [],
   "source": []
  }
 ],
 "metadata": {
  "kernelspec": {
   "display_name": "Python 3",
   "language": "python",
   "name": "python3"
  },
  "language_info": {
   "codemirror_mode": {
    "name": "ipython",
    "version": 3
   },
   "file_extension": ".py",
   "mimetype": "text/x-python",
   "name": "python",
   "nbconvert_exporter": "python",
   "pygments_lexer": "ipython3",
   "version": "3.8.5"
  }
 },
 "nbformat": 4,
 "nbformat_minor": 4
}
